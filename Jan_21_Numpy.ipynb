{
 "cells": [
  {
   "cell_type": "markdown",
   "id": "16697bd4-4ee7-45b4-a180-884f771d943d",
   "metadata": {},
   "source": [
    "1. What is a Python library? Why do we use Python libraries?"
   ]
  },
  {
   "cell_type": "markdown",
   "id": "14a8beeb-4adf-46a7-926d-2536a073f281",
   "metadata": {},
   "source": [
    "A Python library is a collection of pre-written code modules, offering reusable solutions for developers to streamline common tasks in their projects. These libraries provide a set of functions and methods, promoting code efficiency and collaboration within the Python community. Developers leverage Python libraries to access ready-made solutions, enabling them to focus on the unique aspects of their projects without reinventing the wheel. This fosters an efficient and collaborative coding environment, enhancing the overall development experience."
   ]
  },
  {
   "cell_type": "markdown",
   "id": "d9c99461-dd1c-4986-9f1b-267c2d8cd20b",
   "metadata": {},
   "source": [
    "2. What is the difference between Numpy array and List?"
   ]
  },
  {
   "cell_type": "markdown",
   "id": "2e9ddf49-57d7-43e9-9ee2-77d72c31f668",
   "metadata": {},
   "source": [
    "NumPy arrays are homogeneous, meaning they require elements of the same type, ensuring efficiency in numerical computations. On the other hand, Python lists are heterogeneous, allowing a mix of different data types within the same list. This heterogeneity provides flexibility but can lead to some trade-off in terms of numerical performance. When choosing between NumPy arrays and Python lists, it's crucial to consider whether your task demands homogeneity for optimized numerical operations or if the flexibility of handling different data types heterogeneously is more important."
   ]
  },
  {
   "cell_type": "markdown",
   "id": "9c76f72e-ec2b-484f-a651-4565ec5c3a94",
   "metadata": {},
   "source": [
    "3. Find the shape, size and dimension of the following array?\n",
    "\n",
    "[[1, 2, 3, 4]\n",
    "\n",
    "[5, 6, 7, 8],\n",
    "\n",
    "[9, 10, 11, 12]]"
   ]
  },
  {
   "cell_type": "code",
   "execution_count": 2,
   "id": "b77b4633-3094-4ab7-aa7f-4bec4a0dfc08",
   "metadata": {},
   "outputs": [
    {
     "name": "stdout",
     "output_type": "stream",
     "text": [
      "shape of array: (3, 4)\n",
      "size of array: 12\n",
      "dimension of array: 2\n"
     ]
    }
   ],
   "source": [
    "import numpy as np\n",
    "\n",
    "arr1=np.array([[1, 2, 3, 4],[5, 6, 7, 8],[9, 10, 11, 12]])\n",
    "print(\"shape of array:\",arr1.shape)\n",
    "print(\"size of array:\",arr1.size)\n",
    "print(\"dimension of array:\",arr1.ndim)"
   ]
  },
  {
   "cell_type": "markdown",
   "id": "fd826b2f-1c8d-45e7-bc5f-70482690e3f4",
   "metadata": {},
   "source": [
    "4. Write python code to access the first row of the following array?\n",
    "\n",
    "[[1, 2, 3, 4]\n",
    "\n",
    "[5, 6, 7, 8],\n",
    "\n",
    "[9, 10, 11, 12]]"
   ]
  },
  {
   "cell_type": "code",
   "execution_count": 3,
   "id": "0a3a8ce7-b81b-4710-bd33-fb609a3d7c5d",
   "metadata": {},
   "outputs": [
    {
     "name": "stdout",
     "output_type": "stream",
     "text": [
      "First row of array: [[1 2 3 4]]\n"
     ]
    }
   ],
   "source": [
    "arr2=np.array([[1, 2, 3, 4],[5, 6, 7, 8],[9, 10, 11, 12]])\n",
    "print(\"First row of array:\",arr2[[0]])"
   ]
  },
  {
   "cell_type": "markdown",
   "id": "8dbfe003-1e9c-4a45-b24e-1164497d7897",
   "metadata": {},
   "source": [
    "5. How do you access the element at the third row and fourth column from the given numpy array?\n",
    "\n",
    "[[1, 2, 3, 4]\n",
    "\n",
    "[5, 6, 7, 8],\n",
    "\n",
    "[9, 10, 11, 12]"
   ]
  },
  {
   "cell_type": "code",
   "execution_count": 10,
   "id": "9a9eda3a-da97-4bff-b850-8c80077dded1",
   "metadata": {},
   "outputs": [
    {
     "name": "stdout",
     "output_type": "stream",
     "text": [
      "Element at the third row and fourth colum: 12\n"
     ]
    }
   ],
   "source": [
    "arr3=np.array([[1, 2, 3, 4],[5, 6, 7, 8],[9, 10, 11, 12]])\n",
    "print(\"Element at the third row and fourth colum:\",arr3[2,3])"
   ]
  },
  {
   "cell_type": "markdown",
   "id": "e1e1a6da-b11c-4e52-b4ea-2de0f0953e57",
   "metadata": {},
   "source": [
    "6. Write code to extract all odd-indexes elements from the given numpy array?\n",
    "\n",
    "[[1, 2, 3, 4]\n",
    "\n",
    "[5, 6, 7, 8],\n",
    "\n",
    "[9, 10, 11, 12]]"
   ]
  },
  {
   "cell_type": "code",
   "execution_count": 19,
   "id": "86d90d9c-caa5-42b2-8b70-cb3ca3c215ee",
   "metadata": {},
   "outputs": [
    {
     "name": "stdout",
     "output_type": "stream",
     "text": [
      "Odd-indexes element: [[ 1  2  3  4]\n",
      " [ 9 10 11 12]]\n"
     ]
    }
   ],
   "source": [
    "arr4=np.array([[1, 2, 3, 4],[5, 6, 7, 8],[9, 10, 11, 12]])\n",
    "print(\"Odd-indexes element:\",arr4[0::2,:])"
   ]
  },
  {
   "cell_type": "markdown",
   "id": "b23c16aa-7887-4e46-9c4c-4996bfb005f4",
   "metadata": {},
   "source": [
    "7. How can you generate a random 3x3 matrix with values between 0 and 1?"
   ]
  },
  {
   "cell_type": "code",
   "execution_count": 26,
   "id": "57c448d0-4531-4451-8be6-88d3eec086ba",
   "metadata": {},
   "outputs": [
    {
     "name": "stdout",
     "output_type": "stream",
     "text": [
      "Random 3X3 Matrix: [[0.13023224 0.63151856 0.59901451]\n",
      " [0.06643477 0.73516098 0.7576631 ]\n",
      " [0.27502648 0.19912053 0.6929439 ]]\n"
     ]
    }
   ],
   "source": [
    "import random\n",
    "arr5=np.random.rand(3,3)\n",
    "print(\"Random 3X3 Matrix:\",arr5)"
   ]
  },
  {
   "cell_type": "markdown",
   "id": "77625412-bf84-4097-a640-88ea9c2b81e6",
   "metadata": {},
   "source": [
    "8. Describe the difference between np.random.rand and np.random.randn?"
   ]
  },
  {
   "cell_type": "markdown",
   "id": "cf118559-f4d7-4265-ba99-2b0845bb2ca8",
   "metadata": {},
   "source": [
    "The key difference is in the distribution of the generated values. rand produces values uniformly distributed between 0 and 1, while randn produces values from a standard normal distribution."
   ]
  },
  {
   "cell_type": "markdown",
   "id": "2b31469a-254c-4eeb-9d34-fb2d0fe61e1b",
   "metadata": {},
   "source": [
    "9. Write code to increase the dimension of the following array?\n",
    "\n",
    "[[1, 2, 3, 4]\n",
    "\n",
    "[5, 6, 7, 8],\n",
    "\n",
    "[9, 10, 11, 12]]"
   ]
  },
  {
   "cell_type": "code",
   "execution_count": 37,
   "id": "176ce87a-98aa-4a1e-bf76-2e1868d1ea9e",
   "metadata": {},
   "outputs": [
    {
     "name": "stdout",
     "output_type": "stream",
     "text": [
      "Original Array:\n",
      "[[ 1  2  3  4]\n",
      " [ 5  6  7  8]\n",
      " [ 9 10 11 12]]\n",
      "\n",
      "Extended Array (3D):\n",
      "[[[ 1]\n",
      "  [ 2]\n",
      "  [ 3]\n",
      "  [ 4]]\n",
      "\n",
      " [[ 5]\n",
      "  [ 6]\n",
      "  [ 7]\n",
      "  [ 8]]\n",
      "\n",
      " [[ 9]\n",
      "  [10]\n",
      "  [11]\n",
      "  [12]]]\n"
     ]
    }
   ],
   "source": [
    "import numpy as np\n",
    "\n",
    "# Given array\n",
    "original_array = np.array([[1, 2, 3, 4], [5, 6, 7, 8], [9, 10, 11, 12]])\n",
    "\n",
    "# Reshape the array to a 3D array\n",
    "extended_array = original_array.reshape(3, 4, 1)\n",
    "\n",
    "# Print the original and extended arrays\n",
    "print(\"Original Array:\")\n",
    "print(original_array)\n",
    "\n",
    "print(\"\\nExtended Array (3D):\")\n",
    "print(extended_array)"
   ]
  },
  {
   "cell_type": "markdown",
   "id": "09e795e5-1a92-448e-9b57-1e00eb89572f",
   "metadata": {},
   "source": [
    "10. How to transpose the following array in NumPy?\n",
    "\n",
    "[[1, 2, 3, 4]\n",
    "\n",
    "[5, 6, 7, 8],\n",
    "\n",
    "[9, 10, 11, 12]]"
   ]
  },
  {
   "cell_type": "code",
   "execution_count": 39,
   "id": "66bd4ee2-2a12-495e-b312-e2ae41f661d3",
   "metadata": {},
   "outputs": [
    {
     "name": "stdout",
     "output_type": "stream",
     "text": [
      "Transpose is:\n",
      " [[ 1  5  9]\n",
      " [ 2  6 10]\n",
      " [ 3  7 11]\n",
      " [ 4  8 12]]\n"
     ]
    }
   ],
   "source": [
    "arr7=np.array([[1, 2, 3, 4],[5, 6, 7, 8],[9, 10, 11, 12]])\n",
    "print(\"Transpose is:\\n\",arr7.T)"
   ]
  },
  {
   "cell_type": "markdown",
   "id": "9bc3a9af-99aa-474d-8f0e-3073f32839ec",
   "metadata": {},
   "source": [
    "11. Consider the following matrix:\n",
    "\n",
    "Matrix A2 [[1, 2, 3, 4] [5, 6, 7, 8],[9, 10, 11, 12]]\n",
    "\n",
    "Matrix B2 [[1, 2, 3, 4] [5, 6, 7, 8],[9, 10, 11, 12]]\n",
    "\n",
    "\n",
    "Perform the following operation using Python1:"
   ]
  },
  {
   "cell_type": "markdown",
   "id": "5576dd6a-c7cf-477d-8810-bdc7ffe07389",
   "metadata": {},
   "source": [
    "a.Index wise multiplication"
   ]
  },
  {
   "cell_type": "code",
   "execution_count": 42,
   "id": "ecf67e90-1772-41c8-9ed4-a18bd3727c8d",
   "metadata": {},
   "outputs": [
    {
     "name": "stdout",
     "output_type": "stream",
     "text": [
      "Index_wise Multiplication:\n",
      " [[  1   4   9  16]\n",
      " [ 25  36  49  64]\n",
      " [ 81 100 121 144]]\n"
     ]
    }
   ],
   "source": [
    "matrix_A2=np.array( [[1, 2, 3, 4], [5, 6, 7, 8],[9, 10, 11, 12]])\n",
    "matrix_B2=np.array([[1, 2, 3, 4] ,[5, 6, 7, 8],[9, 10, 11, 12]])\n",
    "\n",
    "index_wise_mul=matrix_A2*matrix_B2\n",
    "print(\"Index_wise Multiplication:\\n\",index_wise_mul)"
   ]
  },
  {
   "cell_type": "markdown",
   "id": "2723fc1b-f537-487a-8f4c-d3658ffe9584",
   "metadata": {},
   "source": [
    "b. Matrix multiplication\n"
   ]
  },
  {
   "cell_type": "code",
   "execution_count": 46,
   "id": "bebd64e6-5237-4df8-8282-94042bd7767e",
   "metadata": {},
   "outputs": [
    {
     "name": "stdout",
     "output_type": "stream",
     "text": [
      "Matrix Multiplication:\n",
      "[[ 30  70 110]\n",
      " [ 70 174 278]\n",
      " [110 278 446]]\n"
     ]
    }
   ],
   "source": [
    "matrix_A2=np.array([[1, 2, 3, 4], [5, 6, 7, 8],[9, 10, 11, 12]])\n",
    "matrix_B2=np.array([[1, 2, 3, 4] ,[5, 6, 7, 8],[9, 10, 11, 12]])\n",
    "\n",
    "# Transpose matrix_B2 to make dimensions compatible\n",
    "matrix_B2_transposed = np.transpose(matrix_B2)\n",
    "\n",
    "# Matrix multiplication using numpy.dot\n",
    "matrix_mul = np.dot(matrix_A2, matrix_B2_transposed)\n",
    "\n",
    "# Print the result\n",
    "print(\"Matrix Multiplication:\")\n",
    "print(matrix_mul)"
   ]
  },
  {
   "cell_type": "markdown",
   "id": "1a4e194e-0f24-42aa-9333-3dc114420ef9",
   "metadata": {},
   "source": [
    "c. Add both the matrices"
   ]
  },
  {
   "cell_type": "code",
   "execution_count": 48,
   "id": "7979c606-2660-4d44-8470-ff6c35869d9c",
   "metadata": {},
   "outputs": [
    {
     "name": "stdout",
     "output_type": "stream",
     "text": [
      "Added Matrix:\n",
      " [[ 2  4  6  8]\n",
      " [10 12 14 16]\n",
      " [18 20 22 24]]\n"
     ]
    }
   ],
   "source": [
    "matrix_A2=np.array([[1, 2, 3, 4], [5, 6, 7, 8],[9, 10, 11, 12]])\n",
    "matrix_B2=np.array([[1, 2, 3, 4] ,[5, 6, 7, 8],[9, 10, 11, 12]])\n",
    "\n",
    "matrix_sum=np.add(matrix_A2,matrix_B2)\n",
    "print(\"Added Matrix:\\n\",matrix_sum)"
   ]
  },
  {
   "cell_type": "markdown",
   "id": "77db698e-497b-4d4f-adbe-25232d312363",
   "metadata": {},
   "source": [
    "d.Subtract matrix B from A"
   ]
  },
  {
   "cell_type": "code",
   "execution_count": 49,
   "id": "5e255e6f-102e-43f9-894a-a44a937e5dc0",
   "metadata": {},
   "outputs": [
    {
     "name": "stdout",
     "output_type": "stream",
     "text": [
      "Matrix Subtraction:\n",
      "[[0 0 0 0]\n",
      " [0 0 0 0]\n",
      " [0 0 0 0]]\n"
     ]
    }
   ],
   "source": [
    "# Element-wise subtraction using the - operator\n",
    "matrix_difference = matrix_B2 - matrix_A2\n",
    "\n",
    "# Print the result\n",
    "print(\"Matrix Subtraction:\")\n",
    "print(matrix_difference)"
   ]
  },
  {
   "cell_type": "markdown",
   "id": "fb3c3979-e69a-4343-993e-7ef00aa6fdf2",
   "metadata": {},
   "source": [
    "e.Divide Matrix B by A"
   ]
  },
  {
   "cell_type": "code",
   "execution_count": 50,
   "id": "586197ea-81ef-4513-a510-19877aa30b21",
   "metadata": {},
   "outputs": [
    {
     "name": "stdout",
     "output_type": "stream",
     "text": [
      "Matrix Division:\n",
      "[[1. 1. 1. 1.]\n",
      " [1. 1. 1. 1.]\n",
      " [1. 1. 1. 1.]]\n"
     ]
    }
   ],
   "source": [
    "# Element-wise division using the / operator\n",
    "matrix_quotient = matrix_B2 / matrix_A2\n",
    "\n",
    "# Print the result\n",
    "print(\"Matrix Division:\")\n",
    "print(matrix_quotient)"
   ]
  },
  {
   "cell_type": "markdown",
   "id": "41b1c97d-1f82-4141-9a62-bcbacbf873be",
   "metadata": {},
   "source": [
    "12.  Which function in Numpy can be used to swap the byte order of an array?"
   ]
  },
  {
   "cell_type": "markdown",
   "id": "e2729a62-471f-4509-b66e-35237b33c46d",
   "metadata": {},
   "source": [
    "In NumPy, the function used to swap the byte order (endianess) of an array is numpy.ndarray.byteswap(). This function swaps the byte order of the array in place."
   ]
  },
  {
   "cell_type": "markdown",
   "id": "f370b21e-eb3b-46a3-a920-70b09c5c26cc",
   "metadata": {},
   "source": [
    "13.  What is the significance of the np.linalg.inv function?"
   ]
  },
  {
   "cell_type": "markdown",
   "id": "75c48d01-de1c-4546-9c97-08f3814c1227",
   "metadata": {
    "tags": []
   },
   "source": [
    "The np.linalg.inv function in NumPy is used to find the inverse of a square matrix. The inverse of a matrix is another matrix that, when multiplied with the original matrix, gives the identity matrix."
   ]
  },
  {
   "cell_type": "markdown",
   "id": "e60e5bcf-def8-4ec7-8b68-440c78fcd73a",
   "metadata": {},
   "source": [
    "14. What does the np.reshape function do, and how is it used?"
   ]
  },
  {
   "cell_type": "markdown",
   "id": "199f63af-9fa6-44db-85fe-b6c7987e5afa",
   "metadata": {},
   "source": [
    "The np.reshape function in NumPy is used to rearrange the structure of an array, changing its dimensions while keeping the same data. It allows you to organize the elements in a different shape without altering the values, providing flexibility in representing and working with data in various formats.\n",
    "\n",
    "np.reshape(array, new_shape)"
   ]
  },
  {
   "cell_type": "markdown",
   "id": "52bb815f-498a-4383-9e5a-38d449676aec",
   "metadata": {},
   "source": [
    "15. What is broadcasting in Numpy?\n",
    "\n",
    "Broadcasting in NumPy refers to the ability to perform element-wise operations on arrays with different shapes, allowing NumPy to implicitly adjust the dimensions for compatible operations. It eliminates the need for explicit looping or duplicating data, making array operations more concise and efficient. In broadcasting, smaller arrays are expanded to match the shape of larger arrays along compatible dimensions, facilitating seamless operations even when array shapes differ.\n",
    "\n"
   ]
  },
  {
   "cell_type": "code",
   "execution_count": null,
   "id": "c09c741e-babc-4057-adb5-d909909c64e0",
   "metadata": {},
   "outputs": [],
   "source": []
  }
 ],
 "metadata": {
  "kernelspec": {
   "display_name": "Python 3 (ipykernel)",
   "language": "python",
   "name": "python3"
  },
  "language_info": {
   "codemirror_mode": {
    "name": "ipython",
    "version": 3
   },
   "file_extension": ".py",
   "mimetype": "text/x-python",
   "name": "python",
   "nbconvert_exporter": "python",
   "pygments_lexer": "ipython3",
   "version": "3.10.8"
  }
 },
 "nbformat": 4,
 "nbformat_minor": 5
}
